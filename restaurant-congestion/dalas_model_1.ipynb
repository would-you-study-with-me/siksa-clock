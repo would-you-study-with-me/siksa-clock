{
 "cells": [
  {
   "cell_type": "markdown",
   "source": [
    "# DHMM(달사, 헤일, 모나, 맷돌) 모델\n",
    "우리가 최종적으로 원하는 모습은 음식점의 혼잡도를 구하는 것이다.\n",
    "가장 정석적으로 수학식으로 구하는 방법이 우리가 처음에 제시했던 방법이다.\n",
    "분류를 3가지로 나누고 수치 또는 분류의 데이터를 측정하지 않고, 오로지 이 조건에만 의존하는 것이다. (사실 모든 머신러닝이든 예측 알고리즘은 다 이런식임)\n",
    "\n",
    "- 혼잡 : 웨이팅 10명 이상, 120%\n",
    "- 보통 : 전체 테이블 80% 초과, 120% 미만\n",
    "- 원활 : 전체 테이블 80% 이하\n",
    "\n",
    "예시를 들면 20명 식사 가능 인원을 가진 음식점에서 총 방문 인원이 25명인 경우는 혼잡이다. (10명 이상이 아니더라도 120%로가 넘는다.)\n",
    "또 예시를 들어 위와 똑같은 인원의 음식점에서 총 방문 인원이 22명인 경우는 보통이다.\n",
    "\n",
    "이런식으로 결론을 내릴 수 있다. (나쁘지 않다.)\n",
    "\n",
    "이 분류를 좀 더 고도화 할 수도 있다.\n",
    "\n"
   ],
   "metadata": {
    "collapsed": false,
    "pycharm": {
     "name": "#%% md\n"
    }
   }
  },
  {
   "cell_type": "code",
   "execution_count": null,
   "outputs": [],
   "source": [],
   "metadata": {
    "collapsed": false,
    "pycharm": {
     "name": "#%%\n"
    }
   }
  }
 ],
 "metadata": {
  "kernelspec": {
   "display_name": "Python 3",
   "language": "python",
   "name": "python3"
  },
  "language_info": {
   "codemirror_mode": {
    "name": "ipython",
    "version": 2
   },
   "file_extension": ".py",
   "mimetype": "text/x-python",
   "name": "python",
   "nbconvert_exporter": "python",
   "pygments_lexer": "ipython2",
   "version": "2.7.6"
  }
 },
 "nbformat": 4,
 "nbformat_minor": 0
}