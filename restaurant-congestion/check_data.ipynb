{
 "cells": [
  {
   "cell_type": "code",
   "execution_count": 10,
   "metadata": {
    "collapsed": true
   },
   "outputs": [
    {
     "name": "stdout",
     "output_type": "stream",
     "text": [
      "<class 'pandas.core.frame.DataFrame'>\n",
      "Int64Index: 798760 entries, 11 to 499348\n",
      "Data columns (total 11 columns):\n",
      " #   Column   Non-Null Count   Dtype  \n",
      "---  ------   --------------   -----  \n",
      " 0   개방서비스명   798760 non-null  object \n",
      " 1   소재지우편번호  798760 non-null  float64\n",
      " 2   소재지전체주소  798760 non-null  object \n",
      " 3   도로명전체주소  798760 non-null  object \n",
      " 4   도로명우편번호  798760 non-null  float64\n",
      " 5   사업장명     798760 non-null  object \n",
      " 6   좌표정보(x)  798760 non-null  float64\n",
      " 7   좌표정보(y)  798760 non-null  float64\n",
      " 8   업태구분명    798760 non-null  object \n",
      " 9   시설규모     798760 non-null  float64\n",
      " 10  식사가능인원   798760 non-null  float64\n",
      "dtypes: float64(6), object(5)\n",
      "memory usage: 73.1+ MB\n"
     ]
    }
   ],
   "source": [
    "import numpy as np\n",
    "import pandas as pd\n",
    "\n",
    "restaurant_data = pd.read_csv('restaurant_data.csv')\n",
    "\n",
    "restaurant_data.info()"
   ]
  },
  {
   "cell_type": "code",
   "execution_count": 11,
   "outputs": [
    {
     "data": {
      "text/plain": "        개방서비스명   소재지우편번호                   소재지전체주소  \\\n1311698  일반음식점  469884.0    경기도 여주시 가남읍 삼군리 335-12   \n1322928  일반음식점  302793.0  대전광역시 서구 월평동 218-8 주공아파트   \n1329421  일반음식점  425330.0  경기도 안산시 단원구 대부북동 1870-11   \n306683   휴게음식점  330270.0      충청남도 천안시 동남구 청당동 885   \n381390   휴게음식점  464803.0           경기도 광주시 경안동 197   \n\n                                                   도로명전체주소  도로명우편번호  사업장명  \\\n1311698                               경기도 여주시 가남읍 가남로 15-1  12661.0  카페오름   \n1322928  대전광역시 서구 월평북로 11, 주공아파트1단지 상가동 2층 203,204호 (월평...  35211.0  카페오름   \n1329421                경기도 안산시 단원구 구봉타운길 39-4, 1층일부 (대부북동)  15639.0  카페오름   \n306683                   충청남도 천안시 동남구 청수10길 4-45, 1층 (청당동)  31197.0  카페오름   \n381390                           경기도 광주시 경안로 115, 1층 (경안동)  12764.0  카페오름   \n\n               좌표정보(x)        좌표정보(y)     업태구분명    시설규모  식사가능인원  \n1311698       0.000000       0.000000        기타   96.90  67.830  \n1322928  233243.742269  318162.847242        기타   65.90  46.130  \n1329421  160187.126837  420012.800924        기타   65.06  45.542  \n306683   214270.561699  364537.337782  기타 휴게음식점   75.21  52.647  \n381390   221936.070423  433885.135020       커피숍  128.42  89.894  ",
      "text/html": "<div>\n<style scoped>\n    .dataframe tbody tr th:only-of-type {\n        vertical-align: middle;\n    }\n\n    .dataframe tbody tr th {\n        vertical-align: top;\n    }\n\n    .dataframe thead th {\n        text-align: right;\n    }\n</style>\n<table border=\"1\" class=\"dataframe\">\n  <thead>\n    <tr style=\"text-align: right;\">\n      <th></th>\n      <th>개방서비스명</th>\n      <th>소재지우편번호</th>\n      <th>소재지전체주소</th>\n      <th>도로명전체주소</th>\n      <th>도로명우편번호</th>\n      <th>사업장명</th>\n      <th>좌표정보(x)</th>\n      <th>좌표정보(y)</th>\n      <th>업태구분명</th>\n      <th>시설규모</th>\n      <th>식사가능인원</th>\n    </tr>\n  </thead>\n  <tbody>\n    <tr>\n      <th>1311698</th>\n      <td>일반음식점</td>\n      <td>469884.0</td>\n      <td>경기도 여주시 가남읍 삼군리 335-12</td>\n      <td>경기도 여주시 가남읍 가남로 15-1</td>\n      <td>12661.0</td>\n      <td>카페오름</td>\n      <td>0.000000</td>\n      <td>0.000000</td>\n      <td>기타</td>\n      <td>96.90</td>\n      <td>67.830</td>\n    </tr>\n    <tr>\n      <th>1322928</th>\n      <td>일반음식점</td>\n      <td>302793.0</td>\n      <td>대전광역시 서구 월평동 218-8 주공아파트</td>\n      <td>대전광역시 서구 월평북로 11, 주공아파트1단지 상가동 2층 203,204호 (월평...</td>\n      <td>35211.0</td>\n      <td>카페오름</td>\n      <td>233243.742269</td>\n      <td>318162.847242</td>\n      <td>기타</td>\n      <td>65.90</td>\n      <td>46.130</td>\n    </tr>\n    <tr>\n      <th>1329421</th>\n      <td>일반음식점</td>\n      <td>425330.0</td>\n      <td>경기도 안산시 단원구 대부북동 1870-11</td>\n      <td>경기도 안산시 단원구 구봉타운길 39-4, 1층일부 (대부북동)</td>\n      <td>15639.0</td>\n      <td>카페오름</td>\n      <td>160187.126837</td>\n      <td>420012.800924</td>\n      <td>기타</td>\n      <td>65.06</td>\n      <td>45.542</td>\n    </tr>\n    <tr>\n      <th>306683</th>\n      <td>휴게음식점</td>\n      <td>330270.0</td>\n      <td>충청남도 천안시 동남구 청당동 885</td>\n      <td>충청남도 천안시 동남구 청수10길 4-45, 1층 (청당동)</td>\n      <td>31197.0</td>\n      <td>카페오름</td>\n      <td>214270.561699</td>\n      <td>364537.337782</td>\n      <td>기타 휴게음식점</td>\n      <td>75.21</td>\n      <td>52.647</td>\n    </tr>\n    <tr>\n      <th>381390</th>\n      <td>휴게음식점</td>\n      <td>464803.0</td>\n      <td>경기도 광주시 경안동 197</td>\n      <td>경기도 광주시 경안로 115, 1층 (경안동)</td>\n      <td>12764.0</td>\n      <td>카페오름</td>\n      <td>221936.070423</td>\n      <td>433885.135020</td>\n      <td>커피숍</td>\n      <td>128.42</td>\n      <td>89.894</td>\n    </tr>\n  </tbody>\n</table>\n</div>"
     },
     "execution_count": 11,
     "metadata": {},
     "output_type": "execute_result"
    }
   ],
   "source": [
    "condition = restaurant_data.사업장명 == '카페오름'\n",
    "restaurant_data[condition]"
   ],
   "metadata": {
    "collapsed": false
   }
  },
  {
   "cell_type": "code",
   "execution_count": 13,
   "outputs": [
    {
     "name": "stdout",
     "output_type": "stream",
     "text": [
      "           개방서비스명   소재지우편번호                     소재지전체주소  \\\n",
      "11       관광유흥음식점업  680817.0   울산광역시 남구 삼산동 1564-11번지 2층   \n",
      "1311659     일반음식점  456823.0  경기도 안성시 공도읍 만정리 815-1 107호   \n",
      "1311660     일반음식점  456831.0  경기도 안성시 대덕면 내리 691-6 2층 일부   \n",
      "1311661     일반음식점  150829.0        서울특별시 영등포구 도림동 76-22   \n",
      "1311662     일반음식점  626812.0      경상남도 양산시 물금읍 물금리 878-6   \n",
      "\n",
      "                                        도로명전체주소  도로명우편번호            사업장명  \\\n",
      "11               울산광역시 남구 화합로178번길 20, 2층 (삼산동)  44713.0          슈퍼스타마마   \n",
      "1311659  경기도 안성시 공도읍 공도3로 9-9, 공도 일번가타워 1층 107호  17561.0      79대포 안성공도점   \n",
      "1311660             경기도 안성시 대덕면 중앙대학로 116-1, 2층  17547.0  맛있어2(Masisso2)   \n",
      "1311661          서울특별시 영등포구 도신로33길 11, 1층 (도림동)   7368.0    푸드 딜리버리 영등포점   \n",
      "1311662           경상남도 양산시 물금읍 버들2길 7-13, 1층 일부  50657.0          수벙샌드위치   \n",
      "\n",
      "                좌표정보_x         좌표정보_y  업태구분명    시설규모   식사가능인원  \n",
      "11       412283.456789  229268.903703      0  224.00  156.800  \n",
      "1311659  215021.103199  388727.667964  호프/통닭   82.95   58.065  \n",
      "1311660  219857.937502  388861.268106     한식   19.34   13.538  \n",
      "1311661  191722.709234  445276.999732     한식   40.00   28.000  \n",
      "1311662  380741.211631  202644.423181     기타   65.00   45.500  \n"
     ]
    }
   ],
   "source": [
    "restaurant_data.rename(columns={\"좌표정보(x)\": \"좌표정보_x\", \"좌표정보(y)\": \"좌표정보_y\"}, inplace=True)\n",
    "\n",
    "print(restaurant_data.head())"
   ],
   "metadata": {
    "collapsed": false
   }
  },
  {
   "cell_type": "code",
   "execution_count": 14,
   "outputs": [],
   "source": [
    "restaurant_data.to_csv('data/restaurant_data.csv', index_label=False)"
   ],
   "metadata": {
    "collapsed": false
   }
  },
  {
   "cell_type": "code",
   "execution_count": null,
   "outputs": [],
   "source": [],
   "metadata": {
    "collapsed": false
   }
  }
 ],
 "metadata": {
  "kernelspec": {
   "display_name": "Python 3",
   "language": "python",
   "name": "python3"
  },
  "language_info": {
   "codemirror_mode": {
    "name": "ipython",
    "version": 2
   },
   "file_extension": ".py",
   "mimetype": "text/x-python",
   "name": "python",
   "nbconvert_exporter": "python",
   "pygments_lexer": "ipython2",
   "version": "2.7.6"
  }
 },
 "nbformat": 4,
 "nbformat_minor": 0
}
