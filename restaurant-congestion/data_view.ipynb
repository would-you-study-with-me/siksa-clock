{
 "cells": [
  {
   "cell_type": "markdown",
   "source": [
    "# 한국 토지관리 데이터 자료 분석\n",
    "이 데이터에는 장소의 값과 건축면적과 층 수, 연면적, 높이 등의 데이터가 있습니다.\n",
    "이 데이터에 속성 값이 없으니깐 제대로 추가해봐야겠습니다."
   ],
   "metadata": {
    "collapsed": false,
    "pycharm": {
     "name": "#%% md\n"
    }
   }
  },
  {
   "cell_type": "code",
   "execution_count": 31,
   "outputs": [
    {
     "name": "stderr",
     "output_type": "stream",
     "text": [
      "/var/folders/zz/y6gcr8t54cn5mw40rcb6nq3c0000gn/T/ipykernel_19049/400793865.py:3: DtypeWarning: Columns (12,13,32,35) have mixed types. Specify dtype option on import or set low_memory=False.\n",
      "  building_management_register = pd.read_csv('data/building_data.tsv', sep='|', encoding='cp949')\n"
     ]
    },
    {
     "data": {
      "text/plain": "           42110-13438  2  집합   강원도 춘천시 우두동 1068-1번지      동부아파트      101동  \\\n0          42110-13439  2  집합   강원도 춘천시 우두동 1068-1번지      동부아파트       상가동   \n1          42110-13440  2  집합   강원도 춘천시 우두동 1068-1번지      동부아파트      108동   \n2          42110-13441  2  집합   강원도 춘천시 우두동 1068-1번지      동부아파트      107동   \n3          42110-13442  2  집합   강원도 춘천시 우두동 1068-1번지      동부아파트  유치원,생활시설   \n4          42110-13443  2  집합   강원도 춘천시 우두동 1068-1번지      동부아파트      106동   \n...                ... ..  ..                    ...        ...       ...   \n55873       41410-6395  2  집합     경기도 군포시 산본동 1092번지      장미아파트      상가A동   \n55874       41410-6452  2  집합   경기도 군포시 산본동 1119-3번지  백두(극동)아파트        상가   \n55875       41410-6456  2  집합   경기도 군포시 산본동 1119-4번지    동성백두아파트       상가동   \n55876      11440-27715  2  집합    서울특별시 마포구 망원동 503번지      현진에버빌       NaN   \n55877  48250-102028578  2  집합  경상남도 김해시 율하동 1334-4번지        NaN       NaN   \n\n       42110  11800  0  1068  ...    12394    41  1.1    동   01  정기점검  \\\n0      42110  11800  0  1068  ...   1696.0  11.0  1.0    동  1.0  정기점검   \n1      42110  11800  0  1068  ...  11495.0  41.0  1.0    동  1.0  정기점검   \n2      42110  11800  0  1068  ...   8626.0  39.0  1.0    동  1.0  정기점검   \n3      42110  11800  0  1068  ...    873.0   0.0  1.0    동  1.0  정기점검   \n4      42110  11800  0  1068  ...   6042.0  36.0  1.0    동  1.0  정기점검   \n...      ...    ... ..   ...  ...      ...   ...  ...  ...  ...   ...   \n55873  41410  10400  0  1092  ...    325.0   6.0  NaN  NaN  1.0  정기점검   \n55874  41410  10400  0  1119  ...   1497.0  12.0  NaN  NaN  1.0  정기점검   \n55875  41410  10400  0  1119  ...    692.0   0.0  NaN  NaN  1.0  정기점검   \n55876  11440  12300  0   503  ...   7491.0  40.0  NaN  NaN  1.0  정기점검   \n55877  48250  13100  0  1334  ...  10181.0  32.0  NaN  NaN  1.0  정기점검   \n\n         19941129 Unnamed: 36  Unnamed: 37    20150119  \n0        19941129         NaN          NaN  20150119.0  \n1        19941129         NaN          NaN  20150119.0  \n2        19941129         NaN          NaN  20150119.0  \n3        19941125         NaN          NaN  20150119.0  \n4        19941129         NaN          NaN  20150119.0  \n...           ...         ...          ...         ...  \n55873  19930706.0         NaN   20190412.0  20150119.0  \n55874  19930916.0         NaN   20190412.0  20150119.0  \n55875  19930327.0         NaN   20190412.0  20150119.0  \n55876  20031128.0         NaN   20190705.0  20151128.0  \n55877  20091211.0         NaN   20190717.0  20231211.0  \n\n[55878 rows x 39 columns]",
      "text/html": "<div>\n<style scoped>\n    .dataframe tbody tr th:only-of-type {\n        vertical-align: middle;\n    }\n\n    .dataframe tbody tr th {\n        vertical-align: top;\n    }\n\n    .dataframe thead th {\n        text-align: right;\n    }\n</style>\n<table border=\"1\" class=\"dataframe\">\n  <thead>\n    <tr style=\"text-align: right;\">\n      <th></th>\n      <th>42110-13438</th>\n      <th>2</th>\n      <th>집합</th>\n      <th>강원도 춘천시 우두동 1068-1번지</th>\n      <th>동부아파트</th>\n      <th>101동</th>\n      <th>42110</th>\n      <th>11800</th>\n      <th>0</th>\n      <th>1068</th>\n      <th>...</th>\n      <th>12394</th>\n      <th>41</th>\n      <th>1.1</th>\n      <th>동</th>\n      <th>01</th>\n      <th>정기점검</th>\n      <th>19941129</th>\n      <th>Unnamed: 36</th>\n      <th>Unnamed: 37</th>\n      <th>20150119</th>\n    </tr>\n  </thead>\n  <tbody>\n    <tr>\n      <th>0</th>\n      <td>42110-13439</td>\n      <td>2</td>\n      <td>집합</td>\n      <td>강원도 춘천시 우두동 1068-1번지</td>\n      <td>동부아파트</td>\n      <td>상가동</td>\n      <td>42110</td>\n      <td>11800</td>\n      <td>0</td>\n      <td>1068</td>\n      <td>...</td>\n      <td>1696.0</td>\n      <td>11.0</td>\n      <td>1.0</td>\n      <td>동</td>\n      <td>1.0</td>\n      <td>정기점검</td>\n      <td>19941129</td>\n      <td>NaN</td>\n      <td>NaN</td>\n      <td>20150119.0</td>\n    </tr>\n    <tr>\n      <th>1</th>\n      <td>42110-13440</td>\n      <td>2</td>\n      <td>집합</td>\n      <td>강원도 춘천시 우두동 1068-1번지</td>\n      <td>동부아파트</td>\n      <td>108동</td>\n      <td>42110</td>\n      <td>11800</td>\n      <td>0</td>\n      <td>1068</td>\n      <td>...</td>\n      <td>11495.0</td>\n      <td>41.0</td>\n      <td>1.0</td>\n      <td>동</td>\n      <td>1.0</td>\n      <td>정기점검</td>\n      <td>19941129</td>\n      <td>NaN</td>\n      <td>NaN</td>\n      <td>20150119.0</td>\n    </tr>\n    <tr>\n      <th>2</th>\n      <td>42110-13441</td>\n      <td>2</td>\n      <td>집합</td>\n      <td>강원도 춘천시 우두동 1068-1번지</td>\n      <td>동부아파트</td>\n      <td>107동</td>\n      <td>42110</td>\n      <td>11800</td>\n      <td>0</td>\n      <td>1068</td>\n      <td>...</td>\n      <td>8626.0</td>\n      <td>39.0</td>\n      <td>1.0</td>\n      <td>동</td>\n      <td>1.0</td>\n      <td>정기점검</td>\n      <td>19941129</td>\n      <td>NaN</td>\n      <td>NaN</td>\n      <td>20150119.0</td>\n    </tr>\n    <tr>\n      <th>3</th>\n      <td>42110-13442</td>\n      <td>2</td>\n      <td>집합</td>\n      <td>강원도 춘천시 우두동 1068-1번지</td>\n      <td>동부아파트</td>\n      <td>유치원,생활시설</td>\n      <td>42110</td>\n      <td>11800</td>\n      <td>0</td>\n      <td>1068</td>\n      <td>...</td>\n      <td>873.0</td>\n      <td>0.0</td>\n      <td>1.0</td>\n      <td>동</td>\n      <td>1.0</td>\n      <td>정기점검</td>\n      <td>19941125</td>\n      <td>NaN</td>\n      <td>NaN</td>\n      <td>20150119.0</td>\n    </tr>\n    <tr>\n      <th>4</th>\n      <td>42110-13443</td>\n      <td>2</td>\n      <td>집합</td>\n      <td>강원도 춘천시 우두동 1068-1번지</td>\n      <td>동부아파트</td>\n      <td>106동</td>\n      <td>42110</td>\n      <td>11800</td>\n      <td>0</td>\n      <td>1068</td>\n      <td>...</td>\n      <td>6042.0</td>\n      <td>36.0</td>\n      <td>1.0</td>\n      <td>동</td>\n      <td>1.0</td>\n      <td>정기점검</td>\n      <td>19941129</td>\n      <td>NaN</td>\n      <td>NaN</td>\n      <td>20150119.0</td>\n    </tr>\n    <tr>\n      <th>...</th>\n      <td>...</td>\n      <td>...</td>\n      <td>...</td>\n      <td>...</td>\n      <td>...</td>\n      <td>...</td>\n      <td>...</td>\n      <td>...</td>\n      <td>...</td>\n      <td>...</td>\n      <td>...</td>\n      <td>...</td>\n      <td>...</td>\n      <td>...</td>\n      <td>...</td>\n      <td>...</td>\n      <td>...</td>\n      <td>...</td>\n      <td>...</td>\n      <td>...</td>\n      <td>...</td>\n    </tr>\n    <tr>\n      <th>55873</th>\n      <td>41410-6395</td>\n      <td>2</td>\n      <td>집합</td>\n      <td>경기도 군포시 산본동 1092번지</td>\n      <td>장미아파트</td>\n      <td>상가A동</td>\n      <td>41410</td>\n      <td>10400</td>\n      <td>0</td>\n      <td>1092</td>\n      <td>...</td>\n      <td>325.0</td>\n      <td>6.0</td>\n      <td>NaN</td>\n      <td>NaN</td>\n      <td>1.0</td>\n      <td>정기점검</td>\n      <td>19930706.0</td>\n      <td>NaN</td>\n      <td>20190412.0</td>\n      <td>20150119.0</td>\n    </tr>\n    <tr>\n      <th>55874</th>\n      <td>41410-6452</td>\n      <td>2</td>\n      <td>집합</td>\n      <td>경기도 군포시 산본동 1119-3번지</td>\n      <td>백두(극동)아파트</td>\n      <td>상가</td>\n      <td>41410</td>\n      <td>10400</td>\n      <td>0</td>\n      <td>1119</td>\n      <td>...</td>\n      <td>1497.0</td>\n      <td>12.0</td>\n      <td>NaN</td>\n      <td>NaN</td>\n      <td>1.0</td>\n      <td>정기점검</td>\n      <td>19930916.0</td>\n      <td>NaN</td>\n      <td>20190412.0</td>\n      <td>20150119.0</td>\n    </tr>\n    <tr>\n      <th>55875</th>\n      <td>41410-6456</td>\n      <td>2</td>\n      <td>집합</td>\n      <td>경기도 군포시 산본동 1119-4번지</td>\n      <td>동성백두아파트</td>\n      <td>상가동</td>\n      <td>41410</td>\n      <td>10400</td>\n      <td>0</td>\n      <td>1119</td>\n      <td>...</td>\n      <td>692.0</td>\n      <td>0.0</td>\n      <td>NaN</td>\n      <td>NaN</td>\n      <td>1.0</td>\n      <td>정기점검</td>\n      <td>19930327.0</td>\n      <td>NaN</td>\n      <td>20190412.0</td>\n      <td>20150119.0</td>\n    </tr>\n    <tr>\n      <th>55876</th>\n      <td>11440-27715</td>\n      <td>2</td>\n      <td>집합</td>\n      <td>서울특별시 마포구 망원동 503번지</td>\n      <td>현진에버빌</td>\n      <td>NaN</td>\n      <td>11440</td>\n      <td>12300</td>\n      <td>0</td>\n      <td>503</td>\n      <td>...</td>\n      <td>7491.0</td>\n      <td>40.0</td>\n      <td>NaN</td>\n      <td>NaN</td>\n      <td>1.0</td>\n      <td>정기점검</td>\n      <td>20031128.0</td>\n      <td>NaN</td>\n      <td>20190705.0</td>\n      <td>20151128.0</td>\n    </tr>\n    <tr>\n      <th>55877</th>\n      <td>48250-102028578</td>\n      <td>2</td>\n      <td>집합</td>\n      <td>경상남도 김해시 율하동 1334-4번지</td>\n      <td>NaN</td>\n      <td>NaN</td>\n      <td>48250</td>\n      <td>13100</td>\n      <td>0</td>\n      <td>1334</td>\n      <td>...</td>\n      <td>10181.0</td>\n      <td>32.0</td>\n      <td>NaN</td>\n      <td>NaN</td>\n      <td>1.0</td>\n      <td>정기점검</td>\n      <td>20091211.0</td>\n      <td>NaN</td>\n      <td>20190717.0</td>\n      <td>20231211.0</td>\n    </tr>\n  </tbody>\n</table>\n<p>55878 rows × 39 columns</p>\n</div>"
     },
     "execution_count": 31,
     "metadata": {},
     "output_type": "execute_result"
    }
   ],
   "source": [
    "import pandas as pd\n",
    "\n",
    "building_management_register = pd.read_csv('data/building_data.tsv', sep='|', encoding='cp949')\n",
    "\n",
    "# 데이터를 보니깐 마지막 줄이 하나 더 만들어져있다.\n",
    "building_management_register = building_management_register.drop(building_management_register.columns[-1], axis=1)\n",
    "\n",
    "building_management_register"
   ],
   "metadata": {
    "collapsed": false,
    "pycharm": {
     "name": "#%%\n"
    }
   }
  },
  {
   "cell_type": "markdown",
   "source": [
    "위 데이터를 보면 비어있는 값이 많고, 또한 header가 없어서 어렵다.\n",
    "우선은 header를 추가해보자.\n"
   ],
   "metadata": {
    "collapsed": false,
    "pycharm": {
     "name": "#%% md\n"
    }
   }
  },
  {
   "cell_type": "code",
   "execution_count": 32,
   "outputs": [
    {
     "data": {
      "text/plain": "               관리건출물대장  대장구분코드 대장구분코드명                   대지위치        건물명  \\\n0          42110-13439       2      집합   강원도 춘천시 우두동 1068-1번지      동부아파트   \n1          42110-13440       2      집합   강원도 춘천시 우두동 1068-1번지      동부아파트   \n2          42110-13441       2      집합   강원도 춘천시 우두동 1068-1번지      동부아파트   \n3          42110-13442       2      집합   강원도 춘천시 우두동 1068-1번지      동부아파트   \n4          42110-13443       2      집합   강원도 춘천시 우두동 1068-1번지      동부아파트   \n...                ...     ...     ...                    ...        ...   \n55873       41410-6395       2      집합     경기도 군포시 산본동 1092번지      장미아파트   \n55874       41410-6452       2      집합   경기도 군포시 산본동 1119-3번지  백두(극동)아파트   \n55875       41410-6456       2      집합   경기도 군포시 산본동 1119-4번지    동성백두아파트   \n55876      11440-27715       2      집합    서울특별시 마포구 망원동 503번지      현진에버빌   \n55877  48250-102028578       2      집합  경상남도 김해시 율하동 1334-4번지        NaN   \n\n             동명  시군구코드  법정동코드  대지구분코드     번  ...      연면적    높이 동호구분코드  \\\n0           상가동  42110  11800       0  1068  ...   1696.0  11.0    1.0   \n1          108동  42110  11800       0  1068  ...  11495.0  41.0    1.0   \n2          107동  42110  11800       0  1068  ...   8626.0  39.0    1.0   \n3      유치원,생활시설  42110  11800       0  1068  ...    873.0   0.0    1.0   \n4          106동  42110  11800       0  1068  ...   6042.0  36.0    1.0   \n...         ...    ...    ...     ...   ...  ...      ...   ...    ...   \n55873      상가A동  41410  10400       0  1092  ...    325.0   6.0    NaN   \n55874        상가  41410  10400       0  1119  ...   1497.0  12.0    NaN   \n55875       상가동  41410  10400       0  1119  ...    692.0   0.0    NaN   \n55876       NaN  11440  12300       0   503  ...   7491.0  40.0    NaN   \n55877       NaN  48250  13100       0  1334  ...  10181.0  32.0    NaN   \n\n      동호구분코드명 통보구분코드 통보구분코드명       사용승인일 우수건축물지정기준일         선정일         기준일  \n0           동    1.0    정기점검    19941129        NaN         NaN  20150119.0  \n1           동    1.0    정기점검    19941129        NaN         NaN  20150119.0  \n2           동    1.0    정기점검    19941129        NaN         NaN  20150119.0  \n3           동    1.0    정기점검    19941125        NaN         NaN  20150119.0  \n4           동    1.0    정기점검    19941129        NaN         NaN  20150119.0  \n...       ...    ...     ...         ...        ...         ...         ...  \n55873     NaN    1.0    정기점검  19930706.0        NaN  20190412.0  20150119.0  \n55874     NaN    1.0    정기점검  19930916.0        NaN  20190412.0  20150119.0  \n55875     NaN    1.0    정기점검  19930327.0        NaN  20190412.0  20150119.0  \n55876     NaN    1.0    정기점검  20031128.0        NaN  20190705.0  20151128.0  \n55877     NaN    1.0    정기점검  20091211.0        NaN  20190717.0  20231211.0  \n\n[55878 rows x 39 columns]",
      "text/html": "<div>\n<style scoped>\n    .dataframe tbody tr th:only-of-type {\n        vertical-align: middle;\n    }\n\n    .dataframe tbody tr th {\n        vertical-align: top;\n    }\n\n    .dataframe thead th {\n        text-align: right;\n    }\n</style>\n<table border=\"1\" class=\"dataframe\">\n  <thead>\n    <tr style=\"text-align: right;\">\n      <th></th>\n      <th>관리건출물대장</th>\n      <th>대장구분코드</th>\n      <th>대장구분코드명</th>\n      <th>대지위치</th>\n      <th>건물명</th>\n      <th>동명</th>\n      <th>시군구코드</th>\n      <th>법정동코드</th>\n      <th>대지구분코드</th>\n      <th>번</th>\n      <th>...</th>\n      <th>연면적</th>\n      <th>높이</th>\n      <th>동호구분코드</th>\n      <th>동호구분코드명</th>\n      <th>통보구분코드</th>\n      <th>통보구분코드명</th>\n      <th>사용승인일</th>\n      <th>우수건축물지정기준일</th>\n      <th>선정일</th>\n      <th>기준일</th>\n    </tr>\n  </thead>\n  <tbody>\n    <tr>\n      <th>0</th>\n      <td>42110-13439</td>\n      <td>2</td>\n      <td>집합</td>\n      <td>강원도 춘천시 우두동 1068-1번지</td>\n      <td>동부아파트</td>\n      <td>상가동</td>\n      <td>42110</td>\n      <td>11800</td>\n      <td>0</td>\n      <td>1068</td>\n      <td>...</td>\n      <td>1696.0</td>\n      <td>11.0</td>\n      <td>1.0</td>\n      <td>동</td>\n      <td>1.0</td>\n      <td>정기점검</td>\n      <td>19941129</td>\n      <td>NaN</td>\n      <td>NaN</td>\n      <td>20150119.0</td>\n    </tr>\n    <tr>\n      <th>1</th>\n      <td>42110-13440</td>\n      <td>2</td>\n      <td>집합</td>\n      <td>강원도 춘천시 우두동 1068-1번지</td>\n      <td>동부아파트</td>\n      <td>108동</td>\n      <td>42110</td>\n      <td>11800</td>\n      <td>0</td>\n      <td>1068</td>\n      <td>...</td>\n      <td>11495.0</td>\n      <td>41.0</td>\n      <td>1.0</td>\n      <td>동</td>\n      <td>1.0</td>\n      <td>정기점검</td>\n      <td>19941129</td>\n      <td>NaN</td>\n      <td>NaN</td>\n      <td>20150119.0</td>\n    </tr>\n    <tr>\n      <th>2</th>\n      <td>42110-13441</td>\n      <td>2</td>\n      <td>집합</td>\n      <td>강원도 춘천시 우두동 1068-1번지</td>\n      <td>동부아파트</td>\n      <td>107동</td>\n      <td>42110</td>\n      <td>11800</td>\n      <td>0</td>\n      <td>1068</td>\n      <td>...</td>\n      <td>8626.0</td>\n      <td>39.0</td>\n      <td>1.0</td>\n      <td>동</td>\n      <td>1.0</td>\n      <td>정기점검</td>\n      <td>19941129</td>\n      <td>NaN</td>\n      <td>NaN</td>\n      <td>20150119.0</td>\n    </tr>\n    <tr>\n      <th>3</th>\n      <td>42110-13442</td>\n      <td>2</td>\n      <td>집합</td>\n      <td>강원도 춘천시 우두동 1068-1번지</td>\n      <td>동부아파트</td>\n      <td>유치원,생활시설</td>\n      <td>42110</td>\n      <td>11800</td>\n      <td>0</td>\n      <td>1068</td>\n      <td>...</td>\n      <td>873.0</td>\n      <td>0.0</td>\n      <td>1.0</td>\n      <td>동</td>\n      <td>1.0</td>\n      <td>정기점검</td>\n      <td>19941125</td>\n      <td>NaN</td>\n      <td>NaN</td>\n      <td>20150119.0</td>\n    </tr>\n    <tr>\n      <th>4</th>\n      <td>42110-13443</td>\n      <td>2</td>\n      <td>집합</td>\n      <td>강원도 춘천시 우두동 1068-1번지</td>\n      <td>동부아파트</td>\n      <td>106동</td>\n      <td>42110</td>\n      <td>11800</td>\n      <td>0</td>\n      <td>1068</td>\n      <td>...</td>\n      <td>6042.0</td>\n      <td>36.0</td>\n      <td>1.0</td>\n      <td>동</td>\n      <td>1.0</td>\n      <td>정기점검</td>\n      <td>19941129</td>\n      <td>NaN</td>\n      <td>NaN</td>\n      <td>20150119.0</td>\n    </tr>\n    <tr>\n      <th>...</th>\n      <td>...</td>\n      <td>...</td>\n      <td>...</td>\n      <td>...</td>\n      <td>...</td>\n      <td>...</td>\n      <td>...</td>\n      <td>...</td>\n      <td>...</td>\n      <td>...</td>\n      <td>...</td>\n      <td>...</td>\n      <td>...</td>\n      <td>...</td>\n      <td>...</td>\n      <td>...</td>\n      <td>...</td>\n      <td>...</td>\n      <td>...</td>\n      <td>...</td>\n      <td>...</td>\n    </tr>\n    <tr>\n      <th>55873</th>\n      <td>41410-6395</td>\n      <td>2</td>\n      <td>집합</td>\n      <td>경기도 군포시 산본동 1092번지</td>\n      <td>장미아파트</td>\n      <td>상가A동</td>\n      <td>41410</td>\n      <td>10400</td>\n      <td>0</td>\n      <td>1092</td>\n      <td>...</td>\n      <td>325.0</td>\n      <td>6.0</td>\n      <td>NaN</td>\n      <td>NaN</td>\n      <td>1.0</td>\n      <td>정기점검</td>\n      <td>19930706.0</td>\n      <td>NaN</td>\n      <td>20190412.0</td>\n      <td>20150119.0</td>\n    </tr>\n    <tr>\n      <th>55874</th>\n      <td>41410-6452</td>\n      <td>2</td>\n      <td>집합</td>\n      <td>경기도 군포시 산본동 1119-3번지</td>\n      <td>백두(극동)아파트</td>\n      <td>상가</td>\n      <td>41410</td>\n      <td>10400</td>\n      <td>0</td>\n      <td>1119</td>\n      <td>...</td>\n      <td>1497.0</td>\n      <td>12.0</td>\n      <td>NaN</td>\n      <td>NaN</td>\n      <td>1.0</td>\n      <td>정기점검</td>\n      <td>19930916.0</td>\n      <td>NaN</td>\n      <td>20190412.0</td>\n      <td>20150119.0</td>\n    </tr>\n    <tr>\n      <th>55875</th>\n      <td>41410-6456</td>\n      <td>2</td>\n      <td>집합</td>\n      <td>경기도 군포시 산본동 1119-4번지</td>\n      <td>동성백두아파트</td>\n      <td>상가동</td>\n      <td>41410</td>\n      <td>10400</td>\n      <td>0</td>\n      <td>1119</td>\n      <td>...</td>\n      <td>692.0</td>\n      <td>0.0</td>\n      <td>NaN</td>\n      <td>NaN</td>\n      <td>1.0</td>\n      <td>정기점검</td>\n      <td>19930327.0</td>\n      <td>NaN</td>\n      <td>20190412.0</td>\n      <td>20150119.0</td>\n    </tr>\n    <tr>\n      <th>55876</th>\n      <td>11440-27715</td>\n      <td>2</td>\n      <td>집합</td>\n      <td>서울특별시 마포구 망원동 503번지</td>\n      <td>현진에버빌</td>\n      <td>NaN</td>\n      <td>11440</td>\n      <td>12300</td>\n      <td>0</td>\n      <td>503</td>\n      <td>...</td>\n      <td>7491.0</td>\n      <td>40.0</td>\n      <td>NaN</td>\n      <td>NaN</td>\n      <td>1.0</td>\n      <td>정기점검</td>\n      <td>20031128.0</td>\n      <td>NaN</td>\n      <td>20190705.0</td>\n      <td>20151128.0</td>\n    </tr>\n    <tr>\n      <th>55877</th>\n      <td>48250-102028578</td>\n      <td>2</td>\n      <td>집합</td>\n      <td>경상남도 김해시 율하동 1334-4번지</td>\n      <td>NaN</td>\n      <td>NaN</td>\n      <td>48250</td>\n      <td>13100</td>\n      <td>0</td>\n      <td>1334</td>\n      <td>...</td>\n      <td>10181.0</td>\n      <td>32.0</td>\n      <td>NaN</td>\n      <td>NaN</td>\n      <td>1.0</td>\n      <td>정기점검</td>\n      <td>20091211.0</td>\n      <td>NaN</td>\n      <td>20190717.0</td>\n      <td>20231211.0</td>\n    </tr>\n  </tbody>\n</table>\n<p>55878 rows × 39 columns</p>\n</div>"
     },
     "execution_count": 32,
     "metadata": {},
     "output_type": "execute_result"
    }
   ],
   "source": [
    "building_management_register.columns = [\"관리건출물대장\", \"대장구분코드\", \"대장구분코드명\", \"대지위치\", \"건물명\", \"동명\", \"시군구코드\", \"법정동코드\", \"대지구분코드\", \"번\", \"지\", \"특수지명\", \"블록\", \"로트\", \"주용도코드\", \"주용도코드명\", \"기타용도코드\",\n",
    "                                \"기타용도코드명\", \"구조코드\", \"구조코드명\", \"기타구조\", \"세대수\", \"호수\", \"가구수\", \"아파트호수\", \"지상층수\", \"지하층수\", \"건축면적\", \"동연면적\", \"연면적\", \"높이\", \"동호구분코드\", \"동호구분코드명\", \"통보구분코드\",\n",
    "                                \"통보구분코드명\", \"사용승인일\", \"우수건축물지정기준일\", \"선정일\", \"기준일\"]\n",
    "\n",
    "building_management_register"
   ],
   "metadata": {
    "collapsed": false,
    "pycharm": {
     "name": "#%%\n"
    }
   }
  },
  {
   "cell_type": "markdown",
   "source": [
    "데이터 분석하면 아래와 같다.\n",
    "대지 위치가 55878개 이다.\n",
    "간단하게 큰 타워들 위주인거 같다.\n",
    "만약에 없으면 어떻게 해야할지 모르겠다.\n",
    "\n",
    "필요없는 데이터를 없애고 필요할거 같은거만 가져와보자."
   ],
   "metadata": {
    "collapsed": false,
    "pycharm": {
     "name": "#%% md\n"
    }
   }
  },
  {
   "cell_type": "code",
   "execution_count": 34,
   "outputs": [
    {
     "data": {
      "text/plain": "                        대지위치        건물명        동명     번  지     주용도코드명  \\\n0       강원도 춘천시 우두동 1068-1번지      동부아파트       상가동  1068  1       공동주택   \n1       강원도 춘천시 우두동 1068-1번지      동부아파트      108동  1068  1       공동주택   \n2       강원도 춘천시 우두동 1068-1번지      동부아파트      107동  1068  1       공동주택   \n3       강원도 춘천시 우두동 1068-1번지      동부아파트  유치원,생활시설  1068  1  제2종근린생활시설   \n4       강원도 춘천시 우두동 1068-1번지      동부아파트      106동  1068  1       공동주택   \n...                      ...        ...       ...   ... ..        ...   \n55873     경기도 군포시 산본동 1092번지      장미아파트      상가A동  1092  0  제2종근린생활시설   \n55874   경기도 군포시 산본동 1119-3번지  백두(극동)아파트        상가  1119  3  제1종근린생활시설   \n55875   경기도 군포시 산본동 1119-4번지    동성백두아파트       상가동  1119  4  제1종근린생활시설   \n55876    서울특별시 마포구 망원동 503번지      현진에버빌       NaN   503  0       공동주택   \n55877  경상남도 김해시 율하동 1334-4번지        NaN       NaN  1334  4  제2종근린생활시설   \n\n           기타용도코드명    세대수    호수  가구수  지상층수  지하층수    건축면적     동연면적      연면적  \\\n0              아파트    0.0  35.0  0.0   3.0   1.0   432.0      0.0   1696.0   \n1              아파트  150.0   0.0  0.0  15.0   1.0   804.0      0.0  11495.0   \n2              아파트  112.0   0.0  0.0  14.0   1.0   643.0      0.0   8626.0   \n3             체육도장    0.0   0.0  0.0   4.0   1.0   162.0      0.0    873.0   \n4              아파트   78.0   0.0  0.0  13.0   1.0   483.0      0.0   6042.0   \n...            ...    ...   ...  ...   ...   ...     ...      ...      ...   \n55873  기타제2종근린생활시설    0.0   7.0  7.0   1.0   0.0   334.0      0.0    325.0   \n55874       생활편익시설    0.0  35.0  0.0   2.0   1.0  4302.0      0.0   1497.0   \n55875          소매점    0.0  16.0  0.0   2.0   1.0   231.0      0.0    692.0   \n55876          아파트   56.0   0.0  0.0  15.0   1.0   519.0      0.0   7491.0   \n55877          소매점    0.0   0.0  0.0   8.0   2.0   967.0  10181.0  10181.0   \n\n         높이  \n0      11.0  \n1      41.0  \n2      39.0  \n3       0.0  \n4      36.0  \n...     ...  \n55873   6.0  \n55874  12.0  \n55875   0.0  \n55876  40.0  \n55877  32.0  \n\n[55878 rows x 16 columns]",
      "text/html": "<div>\n<style scoped>\n    .dataframe tbody tr th:only-of-type {\n        vertical-align: middle;\n    }\n\n    .dataframe tbody tr th {\n        vertical-align: top;\n    }\n\n    .dataframe thead th {\n        text-align: right;\n    }\n</style>\n<table border=\"1\" class=\"dataframe\">\n  <thead>\n    <tr style=\"text-align: right;\">\n      <th></th>\n      <th>대지위치</th>\n      <th>건물명</th>\n      <th>동명</th>\n      <th>번</th>\n      <th>지</th>\n      <th>주용도코드명</th>\n      <th>기타용도코드명</th>\n      <th>세대수</th>\n      <th>호수</th>\n      <th>가구수</th>\n      <th>지상층수</th>\n      <th>지하층수</th>\n      <th>건축면적</th>\n      <th>동연면적</th>\n      <th>연면적</th>\n      <th>높이</th>\n    </tr>\n  </thead>\n  <tbody>\n    <tr>\n      <th>0</th>\n      <td>강원도 춘천시 우두동 1068-1번지</td>\n      <td>동부아파트</td>\n      <td>상가동</td>\n      <td>1068</td>\n      <td>1</td>\n      <td>공동주택</td>\n      <td>아파트</td>\n      <td>0.0</td>\n      <td>35.0</td>\n      <td>0.0</td>\n      <td>3.0</td>\n      <td>1.0</td>\n      <td>432.0</td>\n      <td>0.0</td>\n      <td>1696.0</td>\n      <td>11.0</td>\n    </tr>\n    <tr>\n      <th>1</th>\n      <td>강원도 춘천시 우두동 1068-1번지</td>\n      <td>동부아파트</td>\n      <td>108동</td>\n      <td>1068</td>\n      <td>1</td>\n      <td>공동주택</td>\n      <td>아파트</td>\n      <td>150.0</td>\n      <td>0.0</td>\n      <td>0.0</td>\n      <td>15.0</td>\n      <td>1.0</td>\n      <td>804.0</td>\n      <td>0.0</td>\n      <td>11495.0</td>\n      <td>41.0</td>\n    </tr>\n    <tr>\n      <th>2</th>\n      <td>강원도 춘천시 우두동 1068-1번지</td>\n      <td>동부아파트</td>\n      <td>107동</td>\n      <td>1068</td>\n      <td>1</td>\n      <td>공동주택</td>\n      <td>아파트</td>\n      <td>112.0</td>\n      <td>0.0</td>\n      <td>0.0</td>\n      <td>14.0</td>\n      <td>1.0</td>\n      <td>643.0</td>\n      <td>0.0</td>\n      <td>8626.0</td>\n      <td>39.0</td>\n    </tr>\n    <tr>\n      <th>3</th>\n      <td>강원도 춘천시 우두동 1068-1번지</td>\n      <td>동부아파트</td>\n      <td>유치원,생활시설</td>\n      <td>1068</td>\n      <td>1</td>\n      <td>제2종근린생활시설</td>\n      <td>체육도장</td>\n      <td>0.0</td>\n      <td>0.0</td>\n      <td>0.0</td>\n      <td>4.0</td>\n      <td>1.0</td>\n      <td>162.0</td>\n      <td>0.0</td>\n      <td>873.0</td>\n      <td>0.0</td>\n    </tr>\n    <tr>\n      <th>4</th>\n      <td>강원도 춘천시 우두동 1068-1번지</td>\n      <td>동부아파트</td>\n      <td>106동</td>\n      <td>1068</td>\n      <td>1</td>\n      <td>공동주택</td>\n      <td>아파트</td>\n      <td>78.0</td>\n      <td>0.0</td>\n      <td>0.0</td>\n      <td>13.0</td>\n      <td>1.0</td>\n      <td>483.0</td>\n      <td>0.0</td>\n      <td>6042.0</td>\n      <td>36.0</td>\n    </tr>\n    <tr>\n      <th>...</th>\n      <td>...</td>\n      <td>...</td>\n      <td>...</td>\n      <td>...</td>\n      <td>...</td>\n      <td>...</td>\n      <td>...</td>\n      <td>...</td>\n      <td>...</td>\n      <td>...</td>\n      <td>...</td>\n      <td>...</td>\n      <td>...</td>\n      <td>...</td>\n      <td>...</td>\n      <td>...</td>\n    </tr>\n    <tr>\n      <th>55873</th>\n      <td>경기도 군포시 산본동 1092번지</td>\n      <td>장미아파트</td>\n      <td>상가A동</td>\n      <td>1092</td>\n      <td>0</td>\n      <td>제2종근린생활시설</td>\n      <td>기타제2종근린생활시설</td>\n      <td>0.0</td>\n      <td>7.0</td>\n      <td>7.0</td>\n      <td>1.0</td>\n      <td>0.0</td>\n      <td>334.0</td>\n      <td>0.0</td>\n      <td>325.0</td>\n      <td>6.0</td>\n    </tr>\n    <tr>\n      <th>55874</th>\n      <td>경기도 군포시 산본동 1119-3번지</td>\n      <td>백두(극동)아파트</td>\n      <td>상가</td>\n      <td>1119</td>\n      <td>3</td>\n      <td>제1종근린생활시설</td>\n      <td>생활편익시설</td>\n      <td>0.0</td>\n      <td>35.0</td>\n      <td>0.0</td>\n      <td>2.0</td>\n      <td>1.0</td>\n      <td>4302.0</td>\n      <td>0.0</td>\n      <td>1497.0</td>\n      <td>12.0</td>\n    </tr>\n    <tr>\n      <th>55875</th>\n      <td>경기도 군포시 산본동 1119-4번지</td>\n      <td>동성백두아파트</td>\n      <td>상가동</td>\n      <td>1119</td>\n      <td>4</td>\n      <td>제1종근린생활시설</td>\n      <td>소매점</td>\n      <td>0.0</td>\n      <td>16.0</td>\n      <td>0.0</td>\n      <td>2.0</td>\n      <td>1.0</td>\n      <td>231.0</td>\n      <td>0.0</td>\n      <td>692.0</td>\n      <td>0.0</td>\n    </tr>\n    <tr>\n      <th>55876</th>\n      <td>서울특별시 마포구 망원동 503번지</td>\n      <td>현진에버빌</td>\n      <td>NaN</td>\n      <td>503</td>\n      <td>0</td>\n      <td>공동주택</td>\n      <td>아파트</td>\n      <td>56.0</td>\n      <td>0.0</td>\n      <td>0.0</td>\n      <td>15.0</td>\n      <td>1.0</td>\n      <td>519.0</td>\n      <td>0.0</td>\n      <td>7491.0</td>\n      <td>40.0</td>\n    </tr>\n    <tr>\n      <th>55877</th>\n      <td>경상남도 김해시 율하동 1334-4번지</td>\n      <td>NaN</td>\n      <td>NaN</td>\n      <td>1334</td>\n      <td>4</td>\n      <td>제2종근린생활시설</td>\n      <td>소매점</td>\n      <td>0.0</td>\n      <td>0.0</td>\n      <td>0.0</td>\n      <td>8.0</td>\n      <td>2.0</td>\n      <td>967.0</td>\n      <td>10181.0</td>\n      <td>10181.0</td>\n      <td>32.0</td>\n    </tr>\n  </tbody>\n</table>\n<p>55878 rows × 16 columns</p>\n</div>"
     },
     "execution_count": 34,
     "metadata": {},
     "output_type": "execute_result"
    }
   ],
   "source": [
    "building_management_register = building_management_register.loc[:, ['대지위치', '건물명', '동명', '번', '지', '주용도코드명', '기타용도코드명', '세대수', '호수', '가구수', '지상층수', '지하층수', '건축면적', '동연면적', '연면적', '높이']]\n",
    "\n",
    "building_management_register"
   ],
   "metadata": {
    "collapsed": false,
    "pycharm": {
     "name": "#%%\n"
    }
   }
  },
  {
   "cell_type": "markdown",
   "source": [
    "## 데이터 위치별 평수 구분\n",
    "건물의 평수가 문제가 있는 부분이 있다.\n",
    "정말 큰 가게도 있겠지만, 상가 건물 같은 경우 건물 크기로 받아버리기 때문에 \n"
   ],
   "metadata": {
    "collapsed": false,
    "pycharm": {
     "name": "#%% md\n"
    }
   }
  }
 ],
 "metadata": {
  "kernelspec": {
   "display_name": "Python 3",
   "language": "python",
   "name": "python3"
  },
  "language_info": {
   "codemirror_mode": {
    "name": "ipython",
    "version": 2
   },
   "file_extension": ".py",
   "mimetype": "text/x-python",
   "name": "python",
   "nbconvert_exporter": "python",
   "pygments_lexer": "ipython2",
   "version": "2.7.6"
  }
 },
 "nbformat": 4,
 "nbformat_minor": 0
}