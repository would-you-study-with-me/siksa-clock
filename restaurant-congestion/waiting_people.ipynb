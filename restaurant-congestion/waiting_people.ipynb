{
 "cells": [
  {
   "cell_type": "markdown",
   "source": [
    "# 대기 인원 랜덤값 생성\n",
    "대기 인원 생성이 규모와 시간마다 영향을 끼치면 좋을거 같다.\n",
    "우선은 시간에 영향을 끼치는 인원수를 만들어보자."
   ],
   "metadata": {
    "collapsed": false,
    "pycharm": {
     "name": "#%% md\n"
    }
   }
  },
  {
   "cell_type": "code",
   "execution_count": 14,
   "outputs": [
    {
     "name": "stdout",
     "output_type": "stream",
     "text": [
      "2 : 13\n",
      "넉넉하지만 배고픔\n"
     ]
    },
    {
     "data": {
      "text/plain": "51"
     },
     "execution_count": 14,
     "metadata": {},
     "output_type": "execute_result"
    }
   ],
   "source": [
    "import random\n",
    "from time import time, strftime, localtime\n",
    "\n",
    "remaining_seats = 50\n",
    "\n",
    "eat_hour = int(strftime('%I', localtime(time())))\n",
    "eat_minute = strftime('%M', localtime(time()))\n",
    "\n",
    "print('{} : {}'.format(eat_hour, eat_minute))\n",
    "\n",
    "if 11 < eat_hour < 13:\n",
    "    print('점심')\n",
    "    waiting_people = random.randrange(remaining_seats - 15, remaining_seats + 15)\n",
    "elif 17 < eat_hour < 19:\n",
    "    print(\"저녁\")\n",
    "    waiting_people = random.randrange(remaining_seats - 15, remaining_seats + 15)\n",
    "else:\n",
    "    print(\"넉넉하지만 배고픔\")\n",
    "    waiting_people = random.randrange(remaining_seats - 7, remaining_seats + 7)\n",
    "\n",
    "waiting_people"
   ],
   "metadata": {
    "collapsed": false,
    "pycharm": {
     "name": "#%%\n"
    }
   }
  },
  {
   "cell_type": "markdown",
   "source": [
    "위와 같이 시간대별로 나누어서 개발을 했고, 점심 저녁때는 추가 값을 넣어주면 된다. 그러가 추가값도 가게에 따라서 다르다고 생각이 든다.\n",
    "가게 규모가 어떻게 될지 잘 모르겠지만, 좋은 데이터 누가 찾아주세요.\n"
   ],
   "metadata": {
    "collapsed": false,
    "pycharm": {
     "name": "#%% md\n"
    }
   }
  }
 ],
 "metadata": {
  "kernelspec": {
   "display_name": "Python 3",
   "language": "python",
   "name": "python3"
  },
  "language_info": {
   "codemirror_mode": {
    "name": "ipython",
    "version": 2
   },
   "file_extension": ".py",
   "mimetype": "text/x-python",
   "name": "python",
   "nbconvert_exporter": "python",
   "pygments_lexer": "ipython2",
   "version": "2.7.6"
  }
 },
 "nbformat": 4,
 "nbformat_minor": 0
}