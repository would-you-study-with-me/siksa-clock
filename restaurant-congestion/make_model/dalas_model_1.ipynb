{
 "cells": [
  {
   "cell_type": "markdown",
   "source": [
    "# DHMM(달사, 헤일, 모나, 맷돌) 모델\n",
    "우리가 최종적으로 원하는 모습은 음식점의 혼잡도를 구하는 것이다.\n",
    "가장 정석적으로 수학식으로 구하는 방법이 우리가 처음에 제시했던 방법이다.\n",
    "분류를 3가지로 나누고 수치 또는 분류의 데이터를 측정하지 않고, 오로지 이 조건에만 의존하는 것이다. (사실 모든 머신러닝이든 예측 알고리즘은 다 이런식임)\n",
    "\n",
    "- 혼잡 : 웨이팅 10명 이상, 120%\n",
    "- 보통 : 전체 테이블 80% 초과, 120% 미만\n",
    "- 원활 : 전체 테이블 80% 이하\n",
    "\n",
    "예시를 들면 20명 식사 가능 인원을 가진 음식점에서 총 방문 인원이 25명인 경우는 혼잡이다. (10명 이상이 아니더라도 120%로가 넘는다.)\n",
    "또 예시를 들어 위와 똑같은 인원의 음식점에서 총 방문 인원이 22명인 경우는 보통이다.\n",
    "\n",
    "이런식으로 결론을 내릴 수 있다. (나쁘지 않다.)\n",
    "\n",
    "이 분류를 좀 더 고도화 할 수도 있다.\n",
    "\n"
   ],
   "metadata": {
    "collapsed": false,
    "pycharm": {
     "name": "#%% md\n"
    }
   }
  },
  {
   "cell_type": "code",
   "execution_count": 1,
   "outputs": [
    {
     "data": {
      "text/plain": "           개방서비스명   소재지우편번호                              소재지전체주소  \\\n11       관광유흥음식점업  680817.0            울산광역시 남구 삼산동 1564-11번지 2층   \n1311659     일반음식점  456823.0           경기도 안성시 공도읍 만정리 815-1 107호   \n1311660     일반음식점  456831.0           경기도 안성시 대덕면 내리 691-6 2층 일부   \n1311661     일반음식점  150829.0                 서울특별시 영등포구 도림동 76-22   \n1311662     일반음식점  626812.0               경상남도 양산시 물금읍 물금리 878-6   \n...           ...       ...                                  ...   \n499341      휴게음식점  503846.0  광주광역시 남구 봉선동 606번지 남양휴턴1차 106동 107호   \n499342      휴게음식점  503821.0              광주광역시 남구 양림동 92-53번지 1층   \n499345      휴게음식점  503821.0               광주광역시 남구 양림동 24-106 1층   \n499346      휴게음식점  502833.0             광주광역시 서구 풍암동 1117-6 (일층)   \n499348      휴게음식점  503809.0             광주광역시 남구 백운동 620-11번지 1층   \n\n                                               도로명전체주소  도로명우편번호  \\\n11                      울산광역시 남구 화합로178번길 20, 2층 (삼산동)  44713.0   \n1311659         경기도 안성시 공도읍 공도3로 9-9, 공도 일번가타워 1층 107호  17561.0   \n1311660                    경기도 안성시 대덕면 중앙대학로 116-1, 2층  17547.0   \n1311661                 서울특별시 영등포구 도신로33길 11, 1층 (도림동)   7368.0   \n1311662                  경상남도 양산시 물금읍 버들2길 7-13, 1층 일부  50657.0   \n...                                                ...      ...   \n499341   광주광역시 남구 봉선로 106, 106동 107호 (봉선동, 남양휴턴1차 지하1)  61701.0   \n499342                광주광역시 남구 3·1만세운동길 13-2, 1층 (양림동)  61663.0   \n499345                  광주광역시 남구 천변좌로450번길 5, 1층 (양림동)  61662.0   \n499346                 광주광역시 서구 풍암1로21번길 13 (풍암동,(일층))  62058.0   \n499348                     광주광역시 남구 독립로 30-3, 1층 (백운동)  61657.0   \n\n                   사업장명        좌표정보(x)        좌표정보(y)   업태구분명    시설규모   식사가능인원  \n11               슈퍼스타마마  412283.456789  229268.903703     NaN  224.00  156.800  \n1311659      79대포 안성공도점  215021.103199  388727.667964   호프/통닭   82.95   58.065  \n1311660  맛있어2(Masisso2)  219857.937502  388861.268106      한식   19.34   13.538  \n1311661    푸드 딜리버리 영등포점  191722.709234  445276.999732      한식   40.00   28.000  \n1311662          수벙샌드위치  380741.211631  202644.423181      기타   65.00   45.500  \n...                 ...            ...            ...     ...     ...      ...  \n499341          벌크커피봉선점  191414.807157  180524.245780     커피숍   35.00   24.500  \n499342            향원차엔역  192331.722709  181997.490389    전통찻집   82.50   57.750  \n499345         수정솜씨1998  192405.952976  182305.442977  일반조리판매   17.97   12.579  \n499346         파운데이 풍암점  188932.389339  180746.782691     커피숍   85.80   60.060  \n499348             석류나무  190987.643081  181915.397881  일반조리판매   56.10   39.270  \n\n[798760 rows x 11 columns]",
      "text/html": "<div>\n<style scoped>\n    .dataframe tbody tr th:only-of-type {\n        vertical-align: middle;\n    }\n\n    .dataframe tbody tr th {\n        vertical-align: top;\n    }\n\n    .dataframe thead th {\n        text-align: right;\n    }\n</style>\n<table border=\"1\" class=\"dataframe\">\n  <thead>\n    <tr style=\"text-align: right;\">\n      <th></th>\n      <th>개방서비스명</th>\n      <th>소재지우편번호</th>\n      <th>소재지전체주소</th>\n      <th>도로명전체주소</th>\n      <th>도로명우편번호</th>\n      <th>사업장명</th>\n      <th>좌표정보(x)</th>\n      <th>좌표정보(y)</th>\n      <th>업태구분명</th>\n      <th>시설규모</th>\n      <th>식사가능인원</th>\n    </tr>\n  </thead>\n  <tbody>\n    <tr>\n      <th>11</th>\n      <td>관광유흥음식점업</td>\n      <td>680817.0</td>\n      <td>울산광역시 남구 삼산동 1564-11번지 2층</td>\n      <td>울산광역시 남구 화합로178번길 20, 2층 (삼산동)</td>\n      <td>44713.0</td>\n      <td>슈퍼스타마마</td>\n      <td>412283.456789</td>\n      <td>229268.903703</td>\n      <td>NaN</td>\n      <td>224.00</td>\n      <td>156.800</td>\n    </tr>\n    <tr>\n      <th>1311659</th>\n      <td>일반음식점</td>\n      <td>456823.0</td>\n      <td>경기도 안성시 공도읍 만정리 815-1 107호</td>\n      <td>경기도 안성시 공도읍 공도3로 9-9, 공도 일번가타워 1층 107호</td>\n      <td>17561.0</td>\n      <td>79대포 안성공도점</td>\n      <td>215021.103199</td>\n      <td>388727.667964</td>\n      <td>호프/통닭</td>\n      <td>82.95</td>\n      <td>58.065</td>\n    </tr>\n    <tr>\n      <th>1311660</th>\n      <td>일반음식점</td>\n      <td>456831.0</td>\n      <td>경기도 안성시 대덕면 내리 691-6 2층 일부</td>\n      <td>경기도 안성시 대덕면 중앙대학로 116-1, 2층</td>\n      <td>17547.0</td>\n      <td>맛있어2(Masisso2)</td>\n      <td>219857.937502</td>\n      <td>388861.268106</td>\n      <td>한식</td>\n      <td>19.34</td>\n      <td>13.538</td>\n    </tr>\n    <tr>\n      <th>1311661</th>\n      <td>일반음식점</td>\n      <td>150829.0</td>\n      <td>서울특별시 영등포구 도림동 76-22</td>\n      <td>서울특별시 영등포구 도신로33길 11, 1층 (도림동)</td>\n      <td>7368.0</td>\n      <td>푸드 딜리버리 영등포점</td>\n      <td>191722.709234</td>\n      <td>445276.999732</td>\n      <td>한식</td>\n      <td>40.00</td>\n      <td>28.000</td>\n    </tr>\n    <tr>\n      <th>1311662</th>\n      <td>일반음식점</td>\n      <td>626812.0</td>\n      <td>경상남도 양산시 물금읍 물금리 878-6</td>\n      <td>경상남도 양산시 물금읍 버들2길 7-13, 1층 일부</td>\n      <td>50657.0</td>\n      <td>수벙샌드위치</td>\n      <td>380741.211631</td>\n      <td>202644.423181</td>\n      <td>기타</td>\n      <td>65.00</td>\n      <td>45.500</td>\n    </tr>\n    <tr>\n      <th>...</th>\n      <td>...</td>\n      <td>...</td>\n      <td>...</td>\n      <td>...</td>\n      <td>...</td>\n      <td>...</td>\n      <td>...</td>\n      <td>...</td>\n      <td>...</td>\n      <td>...</td>\n      <td>...</td>\n    </tr>\n    <tr>\n      <th>499341</th>\n      <td>휴게음식점</td>\n      <td>503846.0</td>\n      <td>광주광역시 남구 봉선동 606번지 남양휴턴1차 106동 107호</td>\n      <td>광주광역시 남구 봉선로 106, 106동 107호 (봉선동, 남양휴턴1차 지하1)</td>\n      <td>61701.0</td>\n      <td>벌크커피봉선점</td>\n      <td>191414.807157</td>\n      <td>180524.245780</td>\n      <td>커피숍</td>\n      <td>35.00</td>\n      <td>24.500</td>\n    </tr>\n    <tr>\n      <th>499342</th>\n      <td>휴게음식점</td>\n      <td>503821.0</td>\n      <td>광주광역시 남구 양림동 92-53번지 1층</td>\n      <td>광주광역시 남구 3·1만세운동길 13-2, 1층 (양림동)</td>\n      <td>61663.0</td>\n      <td>향원차엔역</td>\n      <td>192331.722709</td>\n      <td>181997.490389</td>\n      <td>전통찻집</td>\n      <td>82.50</td>\n      <td>57.750</td>\n    </tr>\n    <tr>\n      <th>499345</th>\n      <td>휴게음식점</td>\n      <td>503821.0</td>\n      <td>광주광역시 남구 양림동 24-106 1층</td>\n      <td>광주광역시 남구 천변좌로450번길 5, 1층 (양림동)</td>\n      <td>61662.0</td>\n      <td>수정솜씨1998</td>\n      <td>192405.952976</td>\n      <td>182305.442977</td>\n      <td>일반조리판매</td>\n      <td>17.97</td>\n      <td>12.579</td>\n    </tr>\n    <tr>\n      <th>499346</th>\n      <td>휴게음식점</td>\n      <td>502833.0</td>\n      <td>광주광역시 서구 풍암동 1117-6 (일층)</td>\n      <td>광주광역시 서구 풍암1로21번길 13 (풍암동,(일층))</td>\n      <td>62058.0</td>\n      <td>파운데이 풍암점</td>\n      <td>188932.389339</td>\n      <td>180746.782691</td>\n      <td>커피숍</td>\n      <td>85.80</td>\n      <td>60.060</td>\n    </tr>\n    <tr>\n      <th>499348</th>\n      <td>휴게음식점</td>\n      <td>503809.0</td>\n      <td>광주광역시 남구 백운동 620-11번지 1층</td>\n      <td>광주광역시 남구 독립로 30-3, 1층 (백운동)</td>\n      <td>61657.0</td>\n      <td>석류나무</td>\n      <td>190987.643081</td>\n      <td>181915.397881</td>\n      <td>일반조리판매</td>\n      <td>56.10</td>\n      <td>39.270</td>\n    </tr>\n  </tbody>\n</table>\n<p>798760 rows × 11 columns</p>\n</div>"
     },
     "execution_count": 1,
     "metadata": {},
     "output_type": "execute_result"
    }
   ],
   "source": [
    "import pandas as pd\n",
    "\n",
    "restaurant_data = pd.read_csv('data/restaurant_data.csv')\n",
    "restaurant_data"
   ],
   "metadata": {
    "collapsed": false,
    "pycharm": {
     "name": "#%%\n"
    }
   }
  },
  {
   "cell_type": "markdown",
   "source": [
    "## 가장 단순한 모델 수학 수식\n",
    "수학 수식으로 계산하는데지역의 값이 무조건 있어함"
   ],
   "metadata": {
    "collapsed": false,
    "pycharm": {
     "name": "#%% md\n"
    }
   }
  },
  {
   "cell_type": "code",
   "execution_count": 2,
   "outputs": [
    {
     "data": {
      "text/plain": "93.58974358974359"
     },
     "execution_count": 2,
     "metadata": {},
     "output_type": "execute_result"
    }
   ],
   "source": [
    "import random\n",
    "from time import time, strftime, localtime\n",
    "\n",
    "eat_hour = int(strftime('%I', localtime(time())))\n",
    "\n",
    "식사가능인원 = 156\n",
    "\n",
    "if 11< eat_hour < 13:\n",
    "    식사인원 = random.randrange(식사가능인원 - 20, 식사가능인원 + 25)\n",
    "elif 17 < eat_hour < 19:\n",
    "    식사인원 = random.randrange(식사가능인원 - 20, 식사가능인원 + 25)\n",
    "else:\n",
    "    식사인원 = random.randrange(식사가능인원 - 15, 식사가능인원 + 7)\n",
    "\n",
    "# 식사인원 = 대기인원 + 식사인원\n",
    "\n",
    "congestion = (식사인원 / 식사가능인원) * 100\n",
    "congestion"
   ],
   "metadata": {
    "collapsed": false,
    "pycharm": {
     "name": "#%%\n"
    }
   }
  },
  {
   "cell_type": "code",
   "execution_count": 3,
   "outputs": [
    {
     "name": "stdout",
     "output_type": "stream",
     "text": [
      "보통\n"
     ]
    }
   ],
   "source": [
    "if congestion <= 80:\n",
    "    print('원활')\n",
    "elif 80 < congestion < 120:\n",
    "    print('보통')\n",
    "elif congestion >= 120:\n",
    "    print('혼잡')\n",
    "else:\n",
    "    print('이상함?')\n"
   ],
   "metadata": {
    "collapsed": false,
    "pycharm": {
     "name": "#%%\n"
    }
   }
  },
  {
   "cell_type": "markdown",
   "source": [
    "## 머신러닝\n",
    "기본적인 머신러닝을 도입할 수 있다.\n",
    "도메인 속성이 많이 필요하고 그에 대한 데이터를 조사해야한다.\n"
   ],
   "metadata": {
    "collapsed": false,
    "pycharm": {
     "name": "#%% md\n"
    }
   }
  },
  {
   "cell_type": "code",
   "execution_count": 4,
   "outputs": [
    {
     "ename": "SyntaxError",
     "evalue": "invalid syntax (3283106145.py, line 3)",
     "output_type": "error",
     "traceback": [
      "\u001B[0;36m  Input \u001B[0;32mIn [4]\u001B[0;36m\u001B[0m\n\u001B[0;31m    X =\u001B[0m\n\u001B[0m        ^\u001B[0m\n\u001B[0;31mSyntaxError\u001B[0m\u001B[0;31m:\u001B[0m invalid syntax\n"
     ]
    }
   ],
   "source": [
    "from sklearn.model_selection import train_test_split\n"
   ],
   "metadata": {
    "collapsed": false,
    "pycharm": {
     "name": "#%%\n"
    }
   }
  }
 ],
 "metadata": {
  "kernelspec": {
   "display_name": "Python 3",
   "language": "python",
   "name": "python3"
  },
  "language_info": {
   "codemirror_mode": {
    "name": "ipython",
    "version": 2
   },
   "file_extension": ".py",
   "mimetype": "text/x-python",
   "name": "python",
   "nbconvert_exporter": "python",
   "pygments_lexer": "ipython2",
   "version": "2.7.6"
  }
 },
 "nbformat": 4,
 "nbformat_minor": 0
}