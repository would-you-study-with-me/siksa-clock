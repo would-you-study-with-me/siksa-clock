{
 "cells": [
  {
   "cell_type": "markdown",
   "source": [
    "# 대기 인원 랜덤값 생성\n",
    "대기 인원 생성이 규모와 시간마다 영향을 끼치면 좋을거 같다.\n",
    "우선은 시간에 영향을 끼치는 인원수를 만들어보자."
   ],
   "metadata": {
    "collapsed": false,
    "pycharm": {
     "name": "#%% md\n"
    }
   }
  },
  {
   "cell_type": "code",
   "execution_count": 2,
   "outputs": [
    {
     "name": "stdout",
     "output_type": "stream",
     "text": [
      "10 : 09\n",
      "그 외의 시간\n"
     ]
    },
    {
     "data": {
      "text/plain": "24"
     },
     "execution_count": 2,
     "metadata": {},
     "output_type": "execute_result"
    }
   ],
   "source": [
    "import random\n",
    "from time import time, strftime, localtime\n",
    "\n",
    "remaining_seats = 24\n",
    "\n",
    "eat_hour = int(strftime('%I', localtime(time())))\n",
    "eat_minute = strftime('%M', localtime(time()))\n",
    "\n",
    "print('{} : {}'.format(eat_hour, eat_minute))\n",
    "\n",
    "if 11 < eat_hour < 13:\n",
    "    print('점심')\n",
    "    waiting_people = random.randrange(remaining_seats - 15, remaining_seats + 15)\n",
    "elif 17 < eat_hour < 19:\n",
    "    print(\"저녁\")\n",
    "    waiting_people = random.randrange(remaining_seats - 15, remaining_seats + 15)\n",
    "else:\n",
    "    print(\"그 외의 시간\")\n",
    "    waiting_people = random.randrange(remaining_seats - 7, remaining_seats + 7)\n",
    "\n",
    "waiting_people"
   ],
   "metadata": {
    "collapsed": false,
    "pycharm": {
     "name": "#%%\n"
    }
   }
  },
  {
   "cell_type": "markdown",
   "source": [
    "# 평점 값 구하기\n",
    "평점관련된 데이터도 랜덤으로 구하자."
   ],
   "metadata": {
    "collapsed": false,
    "pycharm": {
     "name": "#%% md\n"
    }
   }
  },
  {
   "cell_type": "code",
   "execution_count": 16,
   "outputs": [
    {
     "data": {
      "text/plain": "3"
     },
     "execution_count": 16,
     "metadata": {},
     "output_type": "execute_result"
    }
   ],
   "source": [
    "grade = random.randrange(0, 5)\n",
    "grade"
   ],
   "metadata": {
    "collapsed": false,
    "pycharm": {
     "name": "#%%\n"
    }
   }
  },
  {
   "cell_type": "code",
   "execution_count": 3,
   "outputs": [],
   "source": [],
   "metadata": {
    "collapsed": false,
    "pycharm": {
     "name": "#%%\n"
    }
   }
  }
 ],
 "metadata": {
  "kernelspec": {
   "display_name": "Python 3",
   "language": "python",
   "name": "python3"
  },
  "language_info": {
   "codemirror_mode": {
    "name": "ipython",
    "version": 2
   },
   "file_extension": ".py",
   "mimetype": "text/x-python",
   "name": "python",
   "nbconvert_exporter": "python",
   "pygments_lexer": "ipython2",
   "version": "2.7.6"
  }
 },
 "nbformat": 4,
 "nbformat_minor": 0
}